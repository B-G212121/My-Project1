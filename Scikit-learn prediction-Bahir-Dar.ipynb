{
 "cells": [
  {
   "cell_type": "code",
   "execution_count": 1,
   "id": "ea32bcce-b858-4cbe-b53e-1968ddf0de60",
   "metadata": {},
   "outputs": [],
   "source": [
    "import numpy as np\n",
    "import pandas as pd\n",
    "import matplotlib.pyplot as plt\n",
    "import joblib as jl"
   ]
  },
  {
   "cell_type": "code",
   "execution_count": 2,
   "id": "c52dc642-f8a9-400d-be2a-15d9aa001f13",
   "metadata": {},
   "outputs": [],
   "source": [
    "model_filename = 'concrete_Rdmreg_model.pkl'\n",
    "model = jl.load(model_filename)"
   ]
  },
  {
   "cell_type": "code",
   "execution_count": 3,
   "id": "7295b151-7708-42f6-a1fc-1363aa71b792",
   "metadata": {},
   "outputs": [
    {
     "name": "stdout",
     "output_type": "stream",
     "text": [
      "Predicted Concrete Strengthin MPa =  26.776298571428583 MPa\n"
     ]
    }
   ],
   "source": [
    "New_input_feature = np.array([[42.5,\n",
    "                               400,\n",
    "                               25,\n",
    "                               56,\n",
    "                               120,\n",
    "                               1200,\n",
    "                               900,\n",
    "                               7]])\n",
    "\n",
    "yp = model.predict(New_input_feature)\n",
    "print('Predicted Concrete Strengthin MPa = ', yp[0],'MPa')"
   ]
  },
  {
   "cell_type": "code",
   "execution_count": null,
   "id": "d39e1a4c-ad0f-48f2-9370-eb178b1b204b",
   "metadata": {},
   "outputs": [],
   "source": []
  }
 ],
 "metadata": {
  "kernelspec": {
   "display_name": "Python 3 (ipykernel)",
   "language": "python",
   "name": "python3"
  },
  "language_info": {
   "codemirror_mode": {
    "name": "ipython",
    "version": 3
   },
   "file_extension": ".py",
   "mimetype": "text/x-python",
   "name": "python",
   "nbconvert_exporter": "python",
   "pygments_lexer": "ipython3",
   "version": "3.12.4"
  }
 },
 "nbformat": 4,
 "nbformat_minor": 5
}
